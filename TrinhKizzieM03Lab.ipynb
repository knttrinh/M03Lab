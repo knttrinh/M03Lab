{
 "cells": [
  {
   "cell_type": "markdown",
   "id": "656e6165-803b-4162-beaa-5b970537439e",
   "metadata": {},
   "source": [
    "## Kizzie Trinh | SDEV 220 | Week 3- CLASS, FUCTIONS, LISTS ##"
   ]
  },
  {
   "cell_type": "markdown",
   "id": "ab19f409-4464-4e59-b567-ed0c00a438b5",
   "metadata": {},
   "source": [
    "## Super class for vehicle ## "
   ]
  },
  {
   "cell_type": "code",
   "execution_count": null,
   "id": "43804e18-3bf3-40ae-b56b-c9ccc2774d55",
   "metadata": {},
   "outputs": [],
   "source": [
    "class vehicle():\n",
    "    def __init__(self):\n",
    "        self.vehicle_type = None\n",
    "        self.vehicle_type(self, self.vehicle_type)"
   ]
  },
  {
   "cell_type": "markdown",
   "id": "f453b792-9711-4a65-ad67-a40b1ec871f7",
   "metadata": {},
   "source": [
    "## setting variables for the vehilce attributes ##"
   ]
  },
  {
   "cell_type": "code",
   "execution_count": null,
   "id": "f7a8f126-d4e5-45d0-9a45-1af19c99fca1",
   "metadata": {},
   "outputs": [],
   "source": [
    "class Automobile(vehicle):\n",
    "    def __init__(self, year, make, model, doors, roof):\n",
    "        super().__init__()\n",
    "        self.year = year\n",
    "        self.make = make\n",
    "        self.model = model\n",
    "        self.doors = doors\n",
    "        self.roof = roof\n",
    "    def detail(self):\n",
    "        print(self.vehicle_type)\n",
    "        print(self.year)\n",
    "        print(self.make)\n",
    "        print(self.model)\n",
    "        print(self.doors)\n",
    "        print(self.roof)"
   ]
  },
  {
   "cell_type": "markdown",
   "id": "4755fa10-6281-4252-863c-1914088244b5",
   "metadata": {},
   "source": [
    "## main function to allow individuals to input the details of vehicle ##"
   ]
  },
  {
   "cell_type": "code",
   "execution_count": null,
   "id": "d22ef9e7-1b40-49da-951c-92bad1549cfe",
   "metadata": {},
   "outputs": [],
   "source": [
    "def main():\n",
    "    vehicle_type = \"car\"\n",
    "    car = Automobile()\n",
    "    year = input(\"enter the year:\", year)\n",
    "    model = input(\"enter the model:\", model)\n",
    "    doors = input(\"enter the number of doors:\", doors)\n",
    "    roof = input(\"enter the type of roof:\", roof)\n",
    "    car.set_vehicle_type(vehicle_type)\n",
    "    car.set_Auto(year, model, doors, roof)"
   ]
  },
  {
   "cell_type": "markdown",
   "id": "7664227e-c27d-4108-9ac9-46833661fa72",
   "metadata": {},
   "source": [
    "## displays the details ##"
   ]
  },
  {
   "cell_type": "code",
   "execution_count": 4,
   "id": "38300a33-aa56-4d9e-a447-339304efe511",
   "metadata": {},
   "outputs": [
    {
     "name": "stdout",
     "output_type": "stream",
     "text": [
      "Car Details:\n"
     ]
    },
    {
     "ename": "NameError",
     "evalue": "name 'car' is not defined",
     "output_type": "error",
     "traceback": [
      "\u001b[1;31m---------------------------------------------------------------------------\u001b[0m",
      "\u001b[1;31mNameError\u001b[0m                                 Traceback (most recent call last)",
      "Cell \u001b[1;32mIn[4], line 2\u001b[0m\n\u001b[0;32m      1\u001b[0m \u001b[38;5;28mprint\u001b[39m (\u001b[38;5;124m\"\u001b[39m\u001b[38;5;124mCar Details:\u001b[39m\u001b[38;5;124m\"\u001b[39m)\n\u001b[1;32m----> 2\u001b[0m car\u001b[38;5;241m.\u001b[39mdetails() \n\u001b[0;32m      3\u001b[0m \u001b[38;5;28;01mif\u001b[39;00m \u001b[38;5;18m__name__\u001b[39m \u001b[38;5;241m==\u001b[39m \u001b[38;5;124m\"\u001b[39m\u001b[38;5;124m__main__\u001b[39m\u001b[38;5;124m\"\u001b[39m:\n\u001b[0;32m      4\u001b[0m     main()\n",
      "\u001b[1;31mNameError\u001b[0m: name 'car' is not defined"
     ]
    }
   ],
   "source": [
    "print (\"Car Details:\")\n",
    "car.details() \n",
    "if __name__ == \"__main__\":\n",
    "    main()"
   ]
  },
  {
   "cell_type": "code",
   "execution_count": null,
   "id": "af33832a-06b4-41c1-8149-358856b606db",
   "metadata": {},
   "outputs": [],
   "source": []
  },
  {
   "cell_type": "code",
   "execution_count": null,
   "id": "e1609720-7131-4622-ba75-0c4b214ed6f6",
   "metadata": {},
   "outputs": [],
   "source": []
  }
 ],
 "metadata": {
  "kernelspec": {
   "display_name": "Python 3 (ipykernel)",
   "language": "python",
   "name": "python3"
  },
  "language_info": {
   "codemirror_mode": {
    "name": "ipython",
    "version": 3
   },
   "file_extension": ".py",
   "mimetype": "text/x-python",
   "name": "python",
   "nbconvert_exporter": "python",
   "pygments_lexer": "ipython3",
   "version": "3.11.7"
  }
 },
 "nbformat": 4,
 "nbformat_minor": 5
}
